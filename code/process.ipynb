{
 "cells": [
  {
   "attachments": {},
   "cell_type": "markdown",
   "metadata": {},
   "source": [
    "+ ### Generate VAE encodings for hourly data"
   ]
  },
  {
   "cell_type": "code",
   "outputs": [],
   "source": [],
   "metadata": {
    "collapsed": false,
    "is_executing": true
   }
  },
  {
   "cell_type": "code",
   "execution_count": 76,
   "metadata": {
    "ExecuteTime": {
     "end_time": "2025-02-21T14:03:59.581266Z",
     "start_time": "2025-02-21T14:03:46.014125Z"
    }
   },
   "outputs": [
    {
     "name": "stdout",
     "output_type": "stream",
     "text": [
      "Model: \"encoder\"\n",
      "__________________________________________________________________________________________________\n",
      "Layer (type)                    Output Shape         Param #     Connected to                     \n",
      "==================================================================================================\n",
      "encoder_input (InputLayer)      [(None, 24, 5)]      0                                            \n",
      "__________________________________________________________________________________________________\n",
      "enc_conv_0 (Conv1D)             (None, 12, 512)      8192        encoder_input[0][0]              \n",
      "__________________________________________________________________________________________________\n",
      "enc_conv_1 (Conv1D)             (None, 6, 512)       786944      enc_conv_0[0][0]                 \n",
      "__________________________________________________________________________________________________\n",
      "enc_flatten (Flatten)           (None, 3072)         0           enc_conv_1[0][0]                 \n",
      "__________________________________________________________________________________________________\n",
      "z_mean (Dense)                  (None, 64)           196672      enc_flatten[0][0]                \n",
      "__________________________________________________________________________________________________\n",
      "z_log_var (Dense)               (None, 64)           196672      enc_flatten[0][0]                \n",
      "__________________________________________________________________________________________________\n",
      "sampling_29 (Sampling)          (None, 64)           0           z_mean[0][0]                     \n",
      "                                                                 z_log_var[0][0]                  \n",
      "==================================================================================================\n",
      "Total params: 1,188,480\n",
      "Trainable params: 1,188,480\n",
      "Non-trainable params: 0\n",
      "__________________________________________________________________________________________________\n",
      "Model: \"decoder\"\n",
      "_________________________________________________________________\n",
      "Layer (type)                 Output Shape              Param #   \n",
      "=================================================================\n",
      "decoder_input (InputLayer)   [(None, 64)]              0         \n",
      "_________________________________________________________________\n",
      "dec_dense (Dense)            (None, 3072)              199680    \n",
      "_________________________________________________________________\n",
      "dec_reshape (Reshape)        (None, 6, 512)            0         \n",
      "_________________________________________________________________\n",
      "dec_deconv_0 (Conv1DTranspos (None, 12, 512)           786944    \n",
      "_________________________________________________________________\n",
      "dec_deconv__1 (Conv1DTranspo (None, 24, 5)             7685      \n",
      "_________________________________________________________________\n",
      "dec_flatten (Flatten)        (None, 120)               0         \n",
      "_________________________________________________________________\n",
      "decoder_dense_final (Dense)  (None, 120)               14520     \n",
      "_________________________________________________________________\n",
      "reshape_29 (Reshape)         (None, 24, 5)             0         \n",
      "=================================================================\n",
      "Total params: 1,008,829\n",
      "Trainable params: 1,008,829\n",
      "Non-trainable params: 0\n",
      "_________________________________________________________________\n",
      "data shape :  (6648, 5)\n",
      "encoded shape :  (24, 276, 64)\n",
      "data shape :  (5880, 5)\n",
      "encoded shape :  (245, 64)\n"
     ]
    }
   ],
   "source": [
    "from trainer_VAE import VAETrainer\n",
    "import matplotlib.pyplot as plt\n",
    "import pandas as pd, numpy as np\n",
    "import tensorflow as tf\n",
    "from sklearn.preprocessing import StandardScaler\n",
    "\n",
    "\n",
    "def encode_hourly_data(latent_dim=64, num_hidden_layers=2):\n",
    "    model_dir = f'./final2_vae_model/latent_dim_{latent_dim}_layers_{num_hidden_layers}/'\n",
    "    # model_dir = f'./vae_model_origine/latent_dim_{latent_dim}_layers_{num_hidden_layers}/'\n",
    "    model_file_pref = f'model_'\n",
    "    vae = VAETrainer.load_model(model_dir, model_file_pref)\n",
    "    vae.summary()\n",
    "\n",
    "    scaler = StandardScaler()\n",
    "    # train_data = np.load('./datasets/hourly_train.npy')\n",
    "    train_data = np.load('./final2/train.npy')\n",
    "    scaler.fit(train_data)\n",
    "    \n",
    "\n",
    "    data = scaler.transform(train_data)\n",
    "    n_data = len(data) // 24-1 \n",
    "    encode = np.zeros((24, n_data, vae.latent_dim))\n",
    "    for i in range(0, len(data) - 24 - 1):\n",
    "        day_data = data[i:i+24]\n",
    "        encode[i % 24][i // 24] = vae.encode(day_data)\n",
    "    print('data shape : ', data.shape)\n",
    "    print('encoded shape : ', encode.shape)\n",
    "    np.save('./final2/encoded_train.npy', encode)\n",
    "\n",
    "    # test_data = np.load('./datasets/hourly_test.npy')\n",
    "    test_data = np.load('./final2/test.npy')\n",
    "    data = scaler.transform(test_data)\n",
    "    \n",
    "    n_data = len(data) // 24\n",
    "    encode = np.zeros((n_data, vae.latent_dim))\n",
    "    for i in range(0, len(data), 24):\n",
    "        day_data = data[i:i+24]\n",
    "        encode[i//24] = vae.encode(day_data)\n",
    "    print('data shape : ', data.shape)\n",
    "    print('encoded shape : ', encode.shape)\n",
    "    np.save('./final2/encoded_test.npy', encode)\n",
    "\n",
    "encode_hourly_data(latent_dim=64, num_hidden_layers=2)\n"
   ]
  },
  {
   "cell_type": "code",
   "outputs": [],
   "source": [],
   "metadata": {
    "collapsed": false
   }
  },
  {
   "cell_type": "code",
   "outputs": [],
   "source": [],
   "metadata": {
    "collapsed": false
   }
  },
  {
   "attachments": {},
   "cell_type": "markdown",
   "metadata": {},
   "source": [
    "+ ### Compare VAE-only reconstructed hourly data with original"
   ]
  },
  {
   "cell_type": "code",
   "execution_count": 79,
   "metadata": {
    "ExecuteTime": {
     "end_time": "2025-02-21T14:04:18.470312Z",
     "start_time": "2025-02-21T14:04:18.136748Z"
    }
   },
   "outputs": [
    {
     "data": {
      "text/plain": "<Figure size 1500x500 with 1 Axes>",
      "image/png": "[encoded data removed]"
     },
     "metadata": {},
     "output_type": "display_data"
    }
   ],
   "source": [
    "# orig = np.load('./datasets/hourly_test.npy')\n",
    "# encoded = np.load('./final2/encoded_test.npy')\n",
    "orig = np.load('./final2/test.npy')\n",
    "\n",
    "encoded = np.load('./final2/encoded_test.npy')\n",
    "\n",
    "\n",
    "data = pd.read_csv('./final2/data.csv')\n",
    "data['Hour'] = pd.to_datetime(data['Hour'])\n",
    "\n",
    "# 获取时间列作为索引\n",
    "x = data['Hour'].dt.to_pydatetime().tolist()\n",
    "x = x[6648:6648+5880]\n",
    "\n",
    "# if len(orig) > len(encoded) * 24:\n",
    "#     orig = orig[:len(encoded) * 24]\n",
    "model = VAETrainer.load_model('./final2_vae_model/latent_dim_64_layers_2/', 'model_')\n",
    "\n",
    "# model = VAETrainer.load_model('./vae_model_origine/latent_dim_64_layers_2/', 'model_')\n",
    "decoded = model.decoder(encoded)\n",
    "decoded = decoded.numpy().reshape(-1, 5)\n",
    "\n",
    "scaler = StandardScaler()\n",
    "scaler.fit(orig)\n",
    "orig = scaler.transform(orig)\n",
    "\n",
    "vae_loss = np.mean(np.square(np.subtract(orig, decoded)), axis=1)\n",
    "np.save('vae_loss.npy', vae_loss)\n",
    "# log_vae_loss = np.log(vae_loss + 1e-10)  # 加一个小的常数以避免对\n",
    "# x = pd.date_range('2021-08-29 0:00', periods=6552, freq='H').to_pydatetime().tolist()\n",
    "\n",
    "df_vae = pd.DataFrame({'loss' : vae_loss}, index = x)\n",
    "\n",
    "plt.figure(figsize=(15,5))\n",
    "plt.plot(x, vae_loss)\n",
    "\n",
    "#plt.show()\n",
    "plt.savefig('vae_loss.png')"
   ]
  },
  {
   "attachments": {},
   "cell_type": "markdown",
   "metadata": {},
   "source": [
    "+ ### Execute transformer with VAE-encoded input (run main.py)\n",
    "    ```\n",
    "    python main.py --mode test\n",
    "    ```"
   ]
  },
  {
   "attachments": {},
   "cell_type": "markdown",
   "metadata": {},
   "source": [
    "+ ### Draw transformer reconstruction loss of each sliding window(28 days)"
   ]
  },
  {
   "cell_type": "code",
   "execution_count": 82,
   "metadata": {
    "ExecuteTime": {
     "end_time": "2025-02-21T14:04:58.881808Z",
     "start_time": "2025-02-21T14:04:58.746710Z"
    }
   },
   "outputs": [
    {
     "data": {
      "text/plain": "<Figure size 1500x500 with 1 Axes>",
      "image/png": "[encoded data removed]"
     },
     "metadata": {},
     "output_type": "display_data"
    }
   ],
   "source": [
    "import matplotlib.pyplot as plt\n",
    "import pandas as pd, numpy as np\n",
    "\n",
    "# tf_loss = np.load('vae_model_origine/loss_test_data.npy')\n",
    "tf_loss = np.load('final2/loss_test_data.npy')\n",
    "# tf_loss = np.nan_to_num(tf_loss)  # 将 NaN 转换为 0\n",
    "window_loss = np.mean(tf_loss, axis=1)\n",
    "# window_loss = np.log(window_loss + 1e-10)  # 加一个小的常数以避免对\n",
    "     \n",
    "data = pd.read_csv('./final2/data.csv')\n",
    "data['Hour'] = pd.to_datetime(data['Hour'])\n",
    "\n",
    "# 获取时间列作为索引\n",
    "x = data['Hour'].dt.to_pydatetime().tolist()\n",
    "x = x[6648:6648+218]\n",
    "plt.figure(figsize=(15,5))\n",
    "plt.plot(x, window_loss)\n",
    "plt.show()"
   ]
  },
  {
   "attachments": {},
   "cell_type": "markdown",
   "metadata": {},
   "source": [
    "+ ### Calculate aggregated & averaged transformer loss per each day"
   ]
  },
  {
   "cell_type": "code",
   "execution_count": 83,
   "metadata": {
    "ExecuteTime": {
     "end_time": "2025-02-21T14:05:01.663982Z",
     "start_time": "2025-02-21T14:05:01.456926Z"
    }
   },
   "outputs": [
    {
     "data": {
      "text/plain": "<Figure size 1500x500 with 1 Axes>",
      "image/png": "[encoded data removed]"
     },
     "metadata": {},
     "output_type": "display_data"
    }
   ],
   "source": [
    "def aggregate_tf_loss_from_sliding_windows(data):\n",
    "\n",
    "    l = data.shape[1]\n",
    "    n = data.shape[0]\n",
    "    ano = np.zeros((n, l+n-1))\n",
    "    count = np.zeros(l+n-1)\n",
    "\n",
    "    for i in range(0, n):\n",
    "        for j in range(0, l):\n",
    "            ano[i, i+j] = data[i, j]\n",
    "            count[i + j] += 1\n",
    "\n",
    "    agg_loss = np.sum(ano, axis=0) / count\n",
    "    return agg_loss\n",
    "\n",
    "tf_loss_day = aggregate_tf_loss_from_sliding_windows(tf_loss)\n",
    "np.save('transformer_loss.npy', tf_loss_day)\n",
    "\n",
    "data = pd.read_csv('./final2/data.csv')\n",
    "data['Hour'] = pd.to_datetime(data['Hour'])\n",
    "\n",
    "# 获取时间列作为索引\n",
    "x = data['Hour'].dt.to_pydatetime().tolist()\n",
    "x = x[6648:6648+245]\n",
    "# tf_loss_day = np.log     (tf_loss_day + 1e-10)  # 加一个小的常数以避免对\n",
    "df1 = pd.DataFrame({'loss' : tf_loss_day}, index=x)\n",
    "\n",
    "plt.figure(figsize=(15,5))\n",
    "plt.plot(x, tf_loss_day)\n",
    "#plt.show()\n",
    "plt.savefig('transformer_loss')"
   ]
  },
  {
   "attachments": {},
   "cell_type": "markdown",
   "metadata": {},
   "source": [
    "+ ### Reconstruc hourly data from tf decoding output by VAE decoding"
   ]
  },
  {
   "cell_type": "code",
   "execution_count": 87,
   "metadata": {
    "ExecuteTime": {
     "end_time": "2025-02-21T14:05:26.021974Z",
     "start_time": "2025-02-21T14:05:25.493213Z"
    }
   },
   "outputs": [
    {
     "name": "stdout",
     "output_type": "stream",
     "text": [
      "(218, 28, 64)\n",
      "(6104, 64)\n",
      "(6104, 24, 5)\n",
      "(218, 28, 24, 5)\n"
     ]
    }
   ],
   "source": [
    "# tf_recon = np.load('vae_model_origine/tf_output.npy')\n",
    "tf_recon = np.load('final2/tf_output.npy')\n",
    "print(tf_recon.shape)\n",
    "\n",
    "tf_recon = np.reshape(tf_recon, (-1, 64))\n",
    "print(tf_recon.shape)\n",
    "vae_recon = model.decoder(tf_recon)\n",
    "print(vae_recon.shape)  \n",
    "vae_recon = vae_recon.numpy()\n",
    "# vae_recon = np.reshape(vae_recon, (-1, 245, 24, 10))\n",
    "vae_recon = np.reshape(vae_recon, (-1, 28, 24, 5))\n",
    "print(vae_recon.shape)\n",
    "# desired_shape = (1, 110, 4)\n",
    "# total_elements = np.prod(desired_shape)\n",
    "# \n",
    "# # 获取当前的元素总数\n",
    "# current_elements = vae_recon.size\n",
    "# \n",
    "# if current_elements >= total_elements:\n",
    "#     # 切片以保留我们需要的数据\n",
    "#     vae_recon = vae_recon.flatten()[:total_elements]  # 保留所需的元素\n",
    "#     vae_recon = vae_recon.reshape((-1, *desired_sh ape))  # 重新塑形\n",
    "# else:\n",
    "#     raise ValueError(\"当前数据元素数量不足以填满目标形状\")\n",
    "# \n",
    "# print(vae_recon.shape)  # 验证新形状"
   ]
  },
  {
   "attachments": {},
   "cell_type": "markdown",
   "metadata": {},
   "source": [
    "+ ### Compute anomaly score per each hour"
   ]
  },
  {
   "cell_type": "code",
   "execution_count": 88,
   "metadata": {
    "ExecuteTime": {
     "end_time": "2025-02-21T14:05:30.022362Z",
     "start_time": "2025-02-21T14:05:28.820517Z"
    }
   },
   "outputs": [
    {
     "name": "stdout",
     "output_type": "stream",
     "text": [
      "28\n",
      "218\n"
     ]
    },
    {
     "data": {
      "text/plain": "<Figure size 1500x500 with 1 Axes>",
      "image/png": "[encoded data removed]"
     },
     "metadata": {},
     "output_type": "display_data"
    }
   ],
   "source": [
    "def aggregate_anomaly_score_from_sliding_windows(orig, target):\n",
    "    l = target.shape[1]\n",
    "    print(l)\n",
    "    n = target.shape[0]\n",
    "    print(n)\n",
    "    ano = np.zeros((n, l+n-1, 24))\n",
    "    # print(ano.shape)\n",
    "    count = np.zeros((l+n-1))\n",
    "\n",
    "    for i in range(0, n):\n",
    "        for j in range(0, l):\n",
    "            for k in range(0, 24):\n",
    "                # print(i, j, k)\n",
    "                diff = np.subtract(target[i, j, k], orig[(i+j)*24 + k])\n",
    "                diff = np.square(diff).mean()\n",
    "                ano[i, i+j, k] = diff\n",
    "            count[i + j] += 1\n",
    "\n",
    "    agg = np.sum(ano, axis=0)\n",
    "    score = np.zeros((n+l-1, 24))\n",
    "    for i in range(0, n+l-1):\n",
    "        for j in range(0, 24):\n",
    "            score[i, j] = agg[i, j] / count[i]\n",
    "    return score.reshape(-1)\n",
    "\n",
    "anomaly_score = aggregate_anomaly_score_from_sliding_windows(orig, vae_recon)\n",
    "np.save('anomaly_score', anomaly_score)\n",
    "\n",
    "data = pd.read_csv('./final2/data.csv')\n",
    "data['Hour'] = pd.to_datetime(data['Hour'])\n",
    "\n",
    "# 获取时间列作为索引\n",
    "x = data['Hour'].dt.to_pydatetime().tolist()\n",
    "x = x[6648:6648+5880]\n",
    "plt.figure(figsize=(15,5))\n",
    "plt.plot(x, anomaly_score)\n",
    "#plt.show()\n",
    "plt.savefig('anomaly_score')\n"
   ]
  },
  {
   "cell_type": "code",
   "execution_count": null,
   "metadata": {},
   "outputs": [],
   "source": []
  }
 ],
 "metadata": {
  "kernelspec": {
   "name": "python3",
   "language": "python",
   "display_name": "Python 3 (ipykernel)"
  },
  "language_info": {
   "codemirror_mode": {
    "name": "ipython",
    "version": 3
   },
   "file_extension": ".py",
   "mimetype": "text/x-python",
   "name": "python",
   "nbconvert_exporter": "python",
   "pygments_lexer": "ipython3",
   "version": "3.7.16"
  },
  "orig_nbformat": 4
 },
 "nbformat": 4,
 "nbformat_minor": 2
}
